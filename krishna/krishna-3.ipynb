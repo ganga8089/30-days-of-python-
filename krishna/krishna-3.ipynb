{
 "cells": [
  {
   "cell_type": "code",
   "execution_count": 2,
   "id": "daedc522",
   "metadata": {},
   "outputs": [
    {
     "name": "stdout",
     "output_type": "stream",
     "text": [
      "enter your radius90\n",
      "circumference of a circle 565.2\n"
     ]
    }
   ],
   "source": [
    "'''\n",
    "python program to find the circumference of a circle\n",
    "'''\n",
    "radius=int(input(\"enter your radius\"))\n",
    "circumference=2*3.14*radius\n",
    "print(\"circumference of a circle\",circumference)"
   ]
  },
  {
   "cell_type": "code",
   "execution_count": null,
   "id": "595bca3e",
   "metadata": {},
   "outputs": [],
   "source": []
  }
 ],
 "metadata": {
  "kernelspec": {
   "display_name": "Python 3 (ipykernel)",
   "language": "python",
   "name": "python3"
  },
  "language_info": {
   "codemirror_mode": {
    "name": "ipython",
    "version": 3
   },
   "file_extension": ".py",
   "mimetype": "text/x-python",
   "name": "python",
   "nbconvert_exporter": "python",
   "pygments_lexer": "ipython3",
   "version": "3.9.12"
  }
 },
 "nbformat": 4,
 "nbformat_minor": 5
}
