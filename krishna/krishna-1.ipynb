{
 "cells": [
  {
   "cell_type": "code",
   "execution_count": 1,
   "id": "8f2fe03e",
   "metadata": {},
   "outputs": [
    {
     "name": "stdout",
     "output_type": "stream",
     "text": [
      "enter your length:5\n",
      "enter your breadth8\n",
      "area of the rectangle 40\n"
     ]
    }
   ],
   "source": [
    "'''\n",
    "python program to find the area of a rectangle\n",
    "'''\n",
    "length=int(input(\"enter your length:\"))\n",
    "breadth=int(input(\"enter your breadth\"))\n",
    "area=length*breadth\n",
    "print(\"area of the rectangle\",area)\n"
   ]
  },
  {
   "cell_type": "code",
   "execution_count": null,
   "id": "943a20f4",
   "metadata": {},
   "outputs": [],
   "source": []
  }
 ],
 "metadata": {
  "kernelspec": {
   "display_name": "Python 3 (ipykernel)",
   "language": "python",
   "name": "python3"
  },
  "language_info": {
   "codemirror_mode": {
    "name": "ipython",
    "version": 3
   },
   "file_extension": ".py",
   "mimetype": "text/x-python",
   "name": "python",
   "nbconvert_exporter": "python",
   "pygments_lexer": "ipython3",
   "version": "3.9.12"
  }
 },
 "nbformat": 4,
 "nbformat_minor": 5
}
