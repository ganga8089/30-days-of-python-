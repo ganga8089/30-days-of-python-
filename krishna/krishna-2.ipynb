{
 "cells": [
  {
   "cell_type": "code",
   "execution_count": 3,
   "id": "6d925a98",
   "metadata": {},
   "outputs": [
    {
     "name": "stdout",
     "output_type": "stream",
     "text": [
      "enter your length2\n",
      "enter your breadth4\n",
      "perimeter of a rectangle 8\n"
     ]
    }
   ],
   "source": [
    "'''\n",
    "python program to find the perimeter of the reactangle \n",
    "'''\n",
    "length=int(input(\"enter your length\"))\n",
    "breadth=int(input(\"enter your breadth\"))\n",
    "perimeter=2* length+breadth\n",
    "print(\"perimeter of a rectangle\",perimeter)"
   ]
  },
  {
   "cell_type": "code",
   "execution_count": null,
   "id": "330a61eb",
   "metadata": {},
   "outputs": [],
   "source": []
  }
 ],
 "metadata": {
  "kernelspec": {
   "display_name": "Python 3 (ipykernel)",
   "language": "python",
   "name": "python3"
  },
  "language_info": {
   "codemirror_mode": {
    "name": "ipython",
    "version": 3
   },
   "file_extension": ".py",
   "mimetype": "text/x-python",
   "name": "python",
   "nbconvert_exporter": "python",
   "pygments_lexer": "ipython3",
   "version": "3.9.12"
  }
 },
 "nbformat": 4,
 "nbformat_minor": 5
}
